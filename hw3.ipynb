{
  "cells": [
    {
      "cell_type": "raw",
      "metadata": {},
      "source": [
        "---\n",
        "title: hw3\n",
        "---"
      ],
      "id": "9efdf132"
    },
    {
      "cell_type": "markdown",
      "metadata": {},
      "source": [
        "## p.173 mpg데이터를 이용해 분석 문제를 해결해 보세요."
      ],
      "id": "a7bf6415"
    },
    {
      "cell_type": "code",
      "metadata": {},
      "source": [
        "### mpg 데이터에는 연료 종류를 나타낸 f1 변수는 있지만 연료 가격을 나타낸 변수는 없습니다. 앞에서 만든 fuel 데이터를 이용해 mpg데이터에 price_f1(연료가격) 변수를 추가하세요."
      ],
      "id": "c149213a",
      "execution_count": null,
      "outputs": []
    },
    {
      "cell_type": "code",
      "metadata": {},
      "source": [
        "연료 가격 변수가 잘 추가됐는지 확인하기 위해 model, f1, price_f1 변수를 추출해 앞부분 5행을 출력해보세요."
      ],
      "id": "94822828",
      "execution_count": null,
      "outputs": []
    }
  ],
  "metadata": {
    "kernelspec": {
      "name": "python3",
      "language": "python",
      "display_name": "Python 3 (ipykernel)"
    }
  },
  "nbformat": 4,
  "nbformat_minor": 5
}