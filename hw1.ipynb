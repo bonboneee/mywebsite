{
  "cells": [
    {
      "cell_type": "raw",
      "metadata": {},
      "source": [
        "---\n",
        "title: hw1\n",
        "---"
      ],
      "id": "8687188c"
    },
    {
      "cell_type": "markdown",
      "metadata": {},
      "source": [
        "## 다음 표의 내용을 데이터 프레임으로 만들어 출력해 보세요.\n"
      ],
      "id": "027fb97c"
    },
    {
      "cell_type": "code",
      "metadata": {},
      "source": [
        "import pandas as pd\n",
        "\n",
        "df = pd.DataFrame({\"name\" : [\"사과\", \"딸기\", \"수박\"],\n",
        "            \"가격\" : [1800, 1500, 3000],\n",
        "            \"판매량\" : [24, 38, 13]})\n",
        "\n",
        "df"
      ],
      "id": "36d506aa",
      "execution_count": null,
      "outputs": []
    },
    {
      "cell_type": "code",
      "metadata": {},
      "source": [
        "## 앞에서 만든 데이터 프레임을 이용해 과일의 가격 평균과 판매량 평균을 구해보세요.\n",
        "\n",
        "price_total = sum(df[\"가격\"])/3\n",
        "sell_total = sum(df[\"판매량\"])/3\n",
        "price_total, sell_total"
      ],
      "id": "e18db596",
      "execution_count": null,
      "outputs": []
    },
    {
      "cell_type": "markdown",
      "metadata": {},
      "source": [
        "## mpg 데이터를 이용해 분석 문제를 해결해 보세요."
      ],
      "id": "4d6ae65e"
    },
    {
      "cell_type": "code",
      "metadata": {},
      "source": [
        "### 1. mpg 데이터를 불러와 복사본을 만드세요.\n",
        "import pandas as pd\n",
        "file_path = r'C:/Users/USER/Documents/LS빅데이터/mywebsite/data/mpg.csv'\n",
        "mpg = pd.read_csv(file_path)\n",
        "mpg_new = mpg.copy()"
      ],
      "id": "df83e6ee",
      "execution_count": null,
      "outputs": []
    },
    {
      "cell_type": "code",
      "metadata": {},
      "source": [
        "### 2.복사본 데이터를 이용해 cty는 city로, hwy는 highway로 수정하세요.\n",
        "import pandas as pd\n",
        "mpg_new = mpg_new.rename(columns = {'cit' : 'city', 'hwy' : 'highway'})\n",
        "mpg_new"
      ],
      "id": "98f402e2",
      "execution_count": null,
      "outputs": []
    },
    {
      "cell_type": "markdown",
      "metadata": {},
      "source": [
        "## midwest.csv는 미국 동북중부(East North Central States) 437개 지역의 인구 통계 정보를 담고 있습니다. midwest.csv를 이용해 데이터 분석 문제를 해결해 보세요.\n"
      ],
      "id": "138760dd"
    },
    {
      "cell_type": "code",
      "metadata": {},
      "source": [
        "### 1. midwest.csv를 불러와 데이터의 특징을 파악하세요.\n",
        "\n",
        "import pandas as pd\n",
        "midwest = pd.read_csv('C:/Users/USER/Documents/LS빅데이터/mywebsite/data/midwest.csv')\n",
        "midwest\n",
        "midwest.head()\n",
        "midwest.tail()\n",
        "midwest.shape\n",
        "midwest.info()\n",
        "midwest.describe()"
      ],
      "id": "e5d2659c",
      "execution_count": null,
      "outputs": []
    },
    {
      "cell_type": "code",
      "metadata": {},
      "source": [
        "### 2. poptotal(전체 인구) 변수를 total로, popasian(아시아 인구) 변수를 asian으로 수정하세요.\n",
        "\n",
        "midwest_new= midwest.rename(columns = {'poptotal' : 'total', 'popasian' : 'asian'})\n",
        "midwest_new"
      ],
      "id": "87fff90a",
      "execution_count": null,
      "outputs": []
    },
    {
      "cell_type": "code",
      "metadata": {},
      "source": [
        "### 3. total, asian 변수를 이용해 '전체 인구 대비 아시아 인구 백분율' 파생변수를 추가하고, 히스토그램을 만들어 분포를 살펴보세요.\n",
        "\n",
        "midwest_new[\"asian_per\"] = midwest_new[\"asian\"] / midwest_new[\"total\"] * 100\n",
        "midwest_new[\"asian_per\"].plot.hist()"
      ],
      "id": "ac35abdb",
      "execution_count": null,
      "outputs": []
    },
    {
      "cell_type": "code",
      "metadata": {},
      "source": [
        "### 4. 아시아 인구 백분율 전체 평균을 구하고, 평균을 초과하면 'large', 그 외에는 'small'을 부여한 파생변수를 만들어 보세요.\n",
        "import numpy as np\n",
        "a = midwest_new[\"asian_per\"].mean()\n",
        "midwest[\"asian_mean\"] = np.where(midwest[\"asian_per\"] > a,'large', 'small')\n",
        "midwest"
      ],
      "id": "70ff8afb",
      "execution_count": null,
      "outputs": []
    },
    {
      "cell_type": "code",
      "metadata": {},
      "source": [
        "### 5.'large'와 'small'에 해당하는 지역이 얼마나 많은지 빈도표와 빈도 막대 그래프를 만들어 확인해 보시오.\n",
        "count_test = midwest_new[\"asian_mean\"].value_counts()\n",
        "count_test\n",
        "count_test.plot.bar(rot = 0)"
      ],
      "id": "4f35b490",
      "execution_count": null,
      "outputs": []
    }
  ],
  "metadata": {
    "kernelspec": {
      "name": "python3",
      "language": "python",
      "display_name": "Python 3 (ipykernel)"
    }
  },
  "nbformat": 4,
  "nbformat_minor": 5
}