{
  "cells": [
    {
      "cell_type": "raw",
      "metadata": {},
      "source": [
        "---\n",
        "title: LS 빅데이터 스쿨 Homework 8\n",
        "author: 유은서\n",
        "date: '2024-08-05'\n",
        "categories:\n",
        "  - bigdata\n",
        "---"
      ],
      "id": "54431439"
    },
    {
      "cell_type": "markdown",
      "metadata": {},
      "source": [
        "#신형 자동차의 에너지 소비효율 등급\n",
        "\n",
        "##슬통 자동자는 매해 출시되는 신형 자동차의 에너지 소비효율 등급을 1등급으로 유지하고 있다. 22년 개발된 신형 모델이 한국 자동차 평가원에서 설정한 에너지 소비 효율등급 1등급을 받을 수 있을지 검정하려한다. 평가원에 따르면 1등급의 기준은 평균 복합 에너지 소비효율이 16.0 이상인 경우 부여한다고 한다.\n",
        "\n",
        "##표본에 의하여 판단해볼때, 현대자동차의 신형 모델은 에너지 효율 1등급으로 판단할 수 있을지 판단해보시오. (유의수준 1%로 설정)\n"
      ],
      "id": "766095b9"
    },
    {
      "cell_type": "code",
      "metadata": {},
      "source": [
        "#패키지 불러오기\n",
        "import numpy as np\n",
        "import pandas as pd"
      ],
      "id": "cf507b3e",
      "execution_count": null,
      "outputs": []
    },
    {
      "cell_type": "markdown",
      "metadata": {},
      "source": [
        "### 다음은 신형 자동차 15대의 복합 에너지소비효율 측정한 결과이다."
      ],
      "id": "a26c13aa"
    },
    {
      "cell_type": "code",
      "metadata": {},
      "source": [
        "x= np.array([15.078, 15.752, 15.549, 15.56, 16.098, 13.277, 15.462, 16.116, 15.214, 16.93, 14.118, 14.927, 15.382, 16.709, 16.804])\n",
        "x"
      ],
      "id": "be74ec68",
      "execution_count": null,
      "outputs": []
    },
    {
      "cell_type": "markdown",
      "metadata": {},
      "source": [
        "### 1. 검정을 위한 가설을 명확하게 서술하시오."
      ],
      "id": "ddbd4d7c"
    },
    {
      "cell_type": "code",
      "metadata": {},
      "source": [
        "#\"현대자동차의 신형 모델은 에너지 효율 1등급이다\""
      ],
      "id": "e001551e",
      "execution_count": null,
      "outputs": []
    },
    {
      "cell_type": "markdown",
      "metadata": {},
      "source": [
        "### #2. 검정통계량 계산하시오. 15대의 복합 에너지 소비효율 표본평균, 표준편차 구하기"
      ],
      "id": "c50a0687"
    },
    {
      "cell_type": "code",
      "metadata": {},
      "source": [
        "mean = np.mean(x)\n",
        "std = np.std(x, ddof = 1)\n",
        "t = (mean - 16) / (std /np.sqrt(15))\n",
        "t"
      ],
      "id": "7bd60c42",
      "execution_count": null,
      "outputs": []
    },
    {
      "cell_type": "markdown",
      "metadata": {},
      "source": [
        "#3. p‑value을 구하세요."
      ],
      "id": "842eab33"
    },
    {
      "cell_type": "code",
      "metadata": {},
      "source": [
        "from scipy.stats import t\n",
        "t.cdf(t, len(x)-1)"
      ],
      "id": "43bbc4e4",
      "execution_count": null,
      "outputs": []
    },
    {
      "cell_type": "markdown",
      "metadata": {},
      "source": [
        "#4. 현대자동차의 신형 모델의 평균 복합 에너지 소비효율에 대하여 95% 신뢰구간을 구해보세요."
      ],
      "id": "f159cae4"
    },
    {
      "cell_type": "code",
      "metadata": {},
      "source": [
        "sigma = std / np.sqrt(15)\n",
        "right = mean + t.ppf(0.975, len(x)-1) * (sigma / np.sqrt(15))\n",
        "left = mean + t.ppf(0.025, len(x)-1) * (sigma / np.sqrt(15))\n",
        "print(\"신뢰구간은\", left, \"에서\", right, \"사이다.\")"
      ],
      "id": "7a7627b7",
      "execution_count": null,
      "outputs": []
    }
  ],
  "metadata": {
    "kernelspec": {
      "name": "python3",
      "language": "python",
      "display_name": "Python 3 (ipykernel)"
    }
  },
  "nbformat": 4,
  "nbformat_minor": 5
}